{
 "cells": [
  {
   "cell_type": "markdown",
   "metadata": {},
   "source": [
    "Carbon dioxide emissions are those stemming from the burning of fossil fuels and the manufacture of cement. They include carbon dioxide produced during consumption of solid, liquid, and gas fuels and gas flaring."
   ]
  },
  {
   "cell_type": "markdown",
   "metadata": {},
   "source": [
    "### Get the Data"
   ]
  },
  {
   "cell_type": "markdown",
   "metadata": {},
   "source": [
    "Data can be downloaded from The World Bank [here](http://data.worldbank.org/indicator/EN.ATM.CO2E.PC/) (file named \"API_EN.ATM.CO2E.PC_DS2_en_csv_v2_3012494.csv\")"
   ]
  },
  {
   "cell_type": "markdown",
   "metadata": {},
   "source": [
    "### Import the data using Pandas"
   ]
  },
  {
   "cell_type": "markdown",
   "metadata": {},
   "source": [
    "#### Import required libraries"
   ]
  },
  {
   "cell_type": "code",
   "execution_count": 106,
   "metadata": {},
   "outputs": [],
   "source": [
    "import pandas as pd\n"
   ]
  },
  {
   "cell_type": "markdown",
   "metadata": {},
   "source": [
    "#### Import data"
   ]
  },
  {
   "cell_type": "markdown",
   "metadata": {},
   "source": [
    "hint: add to read method new argument skiprows"
   ]
  },
  {
   "cell_type": "code",
   "execution_count": 79,
   "metadata": {},
   "outputs": [
    {
     "data": {
      "text/plain": "                    Country Name Country Code  \\\n0                          Aruba          ABW   \n1    Africa Eastern and Southern          AFE   \n2                    Afghanistan          AFG   \n3     Africa Western and Central          AFW   \n4                         Angola          AGO   \n..                           ...          ...   \n261                       Kosovo          XKX   \n262                  Yemen, Rep.          YEM   \n263                 South Africa          ZAF   \n264                       Zambia          ZMB   \n265                     Zimbabwe          ZWE   \n\n                             Indicator Name  Indicator Code  1960  1961  1962  \\\n0    CO2 emissions (metric tons per capita)  EN.ATM.CO2E.PC   NaN   NaN   NaN   \n1    CO2 emissions (metric tons per capita)  EN.ATM.CO2E.PC   NaN   NaN   NaN   \n2    CO2 emissions (metric tons per capita)  EN.ATM.CO2E.PC   NaN   NaN   NaN   \n3    CO2 emissions (metric tons per capita)  EN.ATM.CO2E.PC   NaN   NaN   NaN   \n4    CO2 emissions (metric tons per capita)  EN.ATM.CO2E.PC   NaN   NaN   NaN   \n..                                      ...             ...   ...   ...   ...   \n261  CO2 emissions (metric tons per capita)  EN.ATM.CO2E.PC   NaN   NaN   NaN   \n262  CO2 emissions (metric tons per capita)  EN.ATM.CO2E.PC   NaN   NaN   NaN   \n263  CO2 emissions (metric tons per capita)  EN.ATM.CO2E.PC   NaN   NaN   NaN   \n264  CO2 emissions (metric tons per capita)  EN.ATM.CO2E.PC   NaN   NaN   NaN   \n265  CO2 emissions (metric tons per capita)  EN.ATM.CO2E.PC   NaN   NaN   NaN   \n\n     1963  1964  1965  ...      2013      2014      2015      2016      2017  \\\n0     NaN   NaN   NaN  ...       NaN       NaN       NaN       NaN       NaN   \n1     NaN   NaN   NaN  ...  1.005027  1.016649  0.966589  0.948410  0.937926   \n2     NaN   NaN   NaN  ...  0.185624  0.146236  0.172897  0.149789  0.131695   \n3     NaN   NaN   NaN  ...  0.508099  0.515960  0.494065  0.499405  0.483140   \n4     NaN   NaN   NaN  ...  1.036294  1.099779  1.135044  1.031811  0.813301   \n..    ...   ...   ...  ...       ...       ...       ...       ...       ...   \n261   NaN   NaN   NaN  ...       NaN       NaN       NaN       NaN       NaN   \n262   NaN   NaN   NaN  ...  1.106688  1.062211  0.511362  0.399364  0.359622   \n263   NaN   NaN   NaN  ...  8.138264  8.212241  7.669938  7.563739  7.641675   \n264   NaN   NaN   NaN  ...  0.284058  0.304550  0.312355  0.325115  0.404068   \n265   NaN   NaN   NaN  ...  0.919824  0.889104  0.899770  0.785441  0.726297   \n\n         2018      2019  2020  2021  Unnamed: 66  \n0         NaN       NaN   NaN   NaN          NaN  \n1    0.917507  0.913618   NaN   NaN          NaN  \n2    0.163295  0.159824   NaN   NaN          NaN  \n3    0.486456  0.493923   NaN   NaN          NaN  \n4    0.777675  0.792137   NaN   NaN          NaN  \n..        ...       ...   ...   ...          ...  \n261       NaN       NaN   NaN   NaN          NaN  \n262  0.341068  0.380633   NaN   NaN          NaN  \n263  7.515679  7.507736   NaN   NaN          NaN  \n264  0.445489  0.380717   NaN   NaN          NaN  \n265  0.857411  0.802979   NaN   NaN          NaN  \n\n[266 rows x 67 columns]",
      "text/html": "<div>\n<style scoped>\n    .dataframe tbody tr th:only-of-type {\n        vertical-align: middle;\n    }\n\n    .dataframe tbody tr th {\n        vertical-align: top;\n    }\n\n    .dataframe thead th {\n        text-align: right;\n    }\n</style>\n<table border=\"1\" class=\"dataframe\">\n  <thead>\n    <tr style=\"text-align: right;\">\n      <th></th>\n      <th>Country Name</th>\n      <th>Country Code</th>\n      <th>Indicator Name</th>\n      <th>Indicator Code</th>\n      <th>1960</th>\n      <th>1961</th>\n      <th>1962</th>\n      <th>1963</th>\n      <th>1964</th>\n      <th>1965</th>\n      <th>...</th>\n      <th>2013</th>\n      <th>2014</th>\n      <th>2015</th>\n      <th>2016</th>\n      <th>2017</th>\n      <th>2018</th>\n      <th>2019</th>\n      <th>2020</th>\n      <th>2021</th>\n      <th>Unnamed: 66</th>\n    </tr>\n  </thead>\n  <tbody>\n    <tr>\n      <th>0</th>\n      <td>Aruba</td>\n      <td>ABW</td>\n      <td>CO2 emissions (metric tons per capita)</td>\n      <td>EN.ATM.CO2E.PC</td>\n      <td>NaN</td>\n      <td>NaN</td>\n      <td>NaN</td>\n      <td>NaN</td>\n      <td>NaN</td>\n      <td>NaN</td>\n      <td>...</td>\n      <td>NaN</td>\n      <td>NaN</td>\n      <td>NaN</td>\n      <td>NaN</td>\n      <td>NaN</td>\n      <td>NaN</td>\n      <td>NaN</td>\n      <td>NaN</td>\n      <td>NaN</td>\n      <td>NaN</td>\n    </tr>\n    <tr>\n      <th>1</th>\n      <td>Africa Eastern and Southern</td>\n      <td>AFE</td>\n      <td>CO2 emissions (metric tons per capita)</td>\n      <td>EN.ATM.CO2E.PC</td>\n      <td>NaN</td>\n      <td>NaN</td>\n      <td>NaN</td>\n      <td>NaN</td>\n      <td>NaN</td>\n      <td>NaN</td>\n      <td>...</td>\n      <td>1.005027</td>\n      <td>1.016649</td>\n      <td>0.966589</td>\n      <td>0.948410</td>\n      <td>0.937926</td>\n      <td>0.917507</td>\n      <td>0.913618</td>\n      <td>NaN</td>\n      <td>NaN</td>\n      <td>NaN</td>\n    </tr>\n    <tr>\n      <th>2</th>\n      <td>Afghanistan</td>\n      <td>AFG</td>\n      <td>CO2 emissions (metric tons per capita)</td>\n      <td>EN.ATM.CO2E.PC</td>\n      <td>NaN</td>\n      <td>NaN</td>\n      <td>NaN</td>\n      <td>NaN</td>\n      <td>NaN</td>\n      <td>NaN</td>\n      <td>...</td>\n      <td>0.185624</td>\n      <td>0.146236</td>\n      <td>0.172897</td>\n      <td>0.149789</td>\n      <td>0.131695</td>\n      <td>0.163295</td>\n      <td>0.159824</td>\n      <td>NaN</td>\n      <td>NaN</td>\n      <td>NaN</td>\n    </tr>\n    <tr>\n      <th>3</th>\n      <td>Africa Western and Central</td>\n      <td>AFW</td>\n      <td>CO2 emissions (metric tons per capita)</td>\n      <td>EN.ATM.CO2E.PC</td>\n      <td>NaN</td>\n      <td>NaN</td>\n      <td>NaN</td>\n      <td>NaN</td>\n      <td>NaN</td>\n      <td>NaN</td>\n      <td>...</td>\n      <td>0.508099</td>\n      <td>0.515960</td>\n      <td>0.494065</td>\n      <td>0.499405</td>\n      <td>0.483140</td>\n      <td>0.486456</td>\n      <td>0.493923</td>\n      <td>NaN</td>\n      <td>NaN</td>\n      <td>NaN</td>\n    </tr>\n    <tr>\n      <th>4</th>\n      <td>Angola</td>\n      <td>AGO</td>\n      <td>CO2 emissions (metric tons per capita)</td>\n      <td>EN.ATM.CO2E.PC</td>\n      <td>NaN</td>\n      <td>NaN</td>\n      <td>NaN</td>\n      <td>NaN</td>\n      <td>NaN</td>\n      <td>NaN</td>\n      <td>...</td>\n      <td>1.036294</td>\n      <td>1.099779</td>\n      <td>1.135044</td>\n      <td>1.031811</td>\n      <td>0.813301</td>\n      <td>0.777675</td>\n      <td>0.792137</td>\n      <td>NaN</td>\n      <td>NaN</td>\n      <td>NaN</td>\n    </tr>\n    <tr>\n      <th>...</th>\n      <td>...</td>\n      <td>...</td>\n      <td>...</td>\n      <td>...</td>\n      <td>...</td>\n      <td>...</td>\n      <td>...</td>\n      <td>...</td>\n      <td>...</td>\n      <td>...</td>\n      <td>...</td>\n      <td>...</td>\n      <td>...</td>\n      <td>...</td>\n      <td>...</td>\n      <td>...</td>\n      <td>...</td>\n      <td>...</td>\n      <td>...</td>\n      <td>...</td>\n      <td>...</td>\n    </tr>\n    <tr>\n      <th>261</th>\n      <td>Kosovo</td>\n      <td>XKX</td>\n      <td>CO2 emissions (metric tons per capita)</td>\n      <td>EN.ATM.CO2E.PC</td>\n      <td>NaN</td>\n      <td>NaN</td>\n      <td>NaN</td>\n      <td>NaN</td>\n      <td>NaN</td>\n      <td>NaN</td>\n      <td>...</td>\n      <td>NaN</td>\n      <td>NaN</td>\n      <td>NaN</td>\n      <td>NaN</td>\n      <td>NaN</td>\n      <td>NaN</td>\n      <td>NaN</td>\n      <td>NaN</td>\n      <td>NaN</td>\n      <td>NaN</td>\n    </tr>\n    <tr>\n      <th>262</th>\n      <td>Yemen, Rep.</td>\n      <td>YEM</td>\n      <td>CO2 emissions (metric tons per capita)</td>\n      <td>EN.ATM.CO2E.PC</td>\n      <td>NaN</td>\n      <td>NaN</td>\n      <td>NaN</td>\n      <td>NaN</td>\n      <td>NaN</td>\n      <td>NaN</td>\n      <td>...</td>\n      <td>1.106688</td>\n      <td>1.062211</td>\n      <td>0.511362</td>\n      <td>0.399364</td>\n      <td>0.359622</td>\n      <td>0.341068</td>\n      <td>0.380633</td>\n      <td>NaN</td>\n      <td>NaN</td>\n      <td>NaN</td>\n    </tr>\n    <tr>\n      <th>263</th>\n      <td>South Africa</td>\n      <td>ZAF</td>\n      <td>CO2 emissions (metric tons per capita)</td>\n      <td>EN.ATM.CO2E.PC</td>\n      <td>NaN</td>\n      <td>NaN</td>\n      <td>NaN</td>\n      <td>NaN</td>\n      <td>NaN</td>\n      <td>NaN</td>\n      <td>...</td>\n      <td>8.138264</td>\n      <td>8.212241</td>\n      <td>7.669938</td>\n      <td>7.563739</td>\n      <td>7.641675</td>\n      <td>7.515679</td>\n      <td>7.507736</td>\n      <td>NaN</td>\n      <td>NaN</td>\n      <td>NaN</td>\n    </tr>\n    <tr>\n      <th>264</th>\n      <td>Zambia</td>\n      <td>ZMB</td>\n      <td>CO2 emissions (metric tons per capita)</td>\n      <td>EN.ATM.CO2E.PC</td>\n      <td>NaN</td>\n      <td>NaN</td>\n      <td>NaN</td>\n      <td>NaN</td>\n      <td>NaN</td>\n      <td>NaN</td>\n      <td>...</td>\n      <td>0.284058</td>\n      <td>0.304550</td>\n      <td>0.312355</td>\n      <td>0.325115</td>\n      <td>0.404068</td>\n      <td>0.445489</td>\n      <td>0.380717</td>\n      <td>NaN</td>\n      <td>NaN</td>\n      <td>NaN</td>\n    </tr>\n    <tr>\n      <th>265</th>\n      <td>Zimbabwe</td>\n      <td>ZWE</td>\n      <td>CO2 emissions (metric tons per capita)</td>\n      <td>EN.ATM.CO2E.PC</td>\n      <td>NaN</td>\n      <td>NaN</td>\n      <td>NaN</td>\n      <td>NaN</td>\n      <td>NaN</td>\n      <td>NaN</td>\n      <td>...</td>\n      <td>0.919824</td>\n      <td>0.889104</td>\n      <td>0.899770</td>\n      <td>0.785441</td>\n      <td>0.726297</td>\n      <td>0.857411</td>\n      <td>0.802979</td>\n      <td>NaN</td>\n      <td>NaN</td>\n      <td>NaN</td>\n    </tr>\n  </tbody>\n</table>\n<p>266 rows × 67 columns</p>\n</div>"
     },
     "execution_count": 79,
     "metadata": {},
     "output_type": "execute_result"
    }
   ],
   "source": [
    "data = pd.read_csv(\"API_EN.ATM.CO2E.PC_DS2_en_csv_v2_4700403.csv\", skiprows=4)\n",
    "data"
   ]
  },
  {
   "cell_type": "markdown",
   "metadata": {},
   "source": [
    "#### Display first 5 rows of `data`"
   ]
  },
  {
   "cell_type": "code",
   "execution_count": 80,
   "metadata": {},
   "outputs": [
    {
     "data": {
      "text/plain": "                  Country Name Country Code  \\\n0                        Aruba          ABW   \n1  Africa Eastern and Southern          AFE   \n2                  Afghanistan          AFG   \n3   Africa Western and Central          AFW   \n4                       Angola          AGO   \n\n                           Indicator Name  Indicator Code  1960  1961  1962  \\\n0  CO2 emissions (metric tons per capita)  EN.ATM.CO2E.PC   NaN   NaN   NaN   \n1  CO2 emissions (metric tons per capita)  EN.ATM.CO2E.PC   NaN   NaN   NaN   \n2  CO2 emissions (metric tons per capita)  EN.ATM.CO2E.PC   NaN   NaN   NaN   \n3  CO2 emissions (metric tons per capita)  EN.ATM.CO2E.PC   NaN   NaN   NaN   \n4  CO2 emissions (metric tons per capita)  EN.ATM.CO2E.PC   NaN   NaN   NaN   \n\n   1963  1964  1965  ...      2013      2014      2015      2016      2017  \\\n0   NaN   NaN   NaN  ...       NaN       NaN       NaN       NaN       NaN   \n1   NaN   NaN   NaN  ...  1.005027  1.016649  0.966589  0.948410  0.937926   \n2   NaN   NaN   NaN  ...  0.185624  0.146236  0.172897  0.149789  0.131695   \n3   NaN   NaN   NaN  ...  0.508099  0.515960  0.494065  0.499405  0.483140   \n4   NaN   NaN   NaN  ...  1.036294  1.099779  1.135044  1.031811  0.813301   \n\n       2018      2019  2020  2021  Unnamed: 66  \n0       NaN       NaN   NaN   NaN          NaN  \n1  0.917507  0.913618   NaN   NaN          NaN  \n2  0.163295  0.159824   NaN   NaN          NaN  \n3  0.486456  0.493923   NaN   NaN          NaN  \n4  0.777675  0.792137   NaN   NaN          NaN  \n\n[5 rows x 67 columns]",
      "text/html": "<div>\n<style scoped>\n    .dataframe tbody tr th:only-of-type {\n        vertical-align: middle;\n    }\n\n    .dataframe tbody tr th {\n        vertical-align: top;\n    }\n\n    .dataframe thead th {\n        text-align: right;\n    }\n</style>\n<table border=\"1\" class=\"dataframe\">\n  <thead>\n    <tr style=\"text-align: right;\">\n      <th></th>\n      <th>Country Name</th>\n      <th>Country Code</th>\n      <th>Indicator Name</th>\n      <th>Indicator Code</th>\n      <th>1960</th>\n      <th>1961</th>\n      <th>1962</th>\n      <th>1963</th>\n      <th>1964</th>\n      <th>1965</th>\n      <th>...</th>\n      <th>2013</th>\n      <th>2014</th>\n      <th>2015</th>\n      <th>2016</th>\n      <th>2017</th>\n      <th>2018</th>\n      <th>2019</th>\n      <th>2020</th>\n      <th>2021</th>\n      <th>Unnamed: 66</th>\n    </tr>\n  </thead>\n  <tbody>\n    <tr>\n      <th>0</th>\n      <td>Aruba</td>\n      <td>ABW</td>\n      <td>CO2 emissions (metric tons per capita)</td>\n      <td>EN.ATM.CO2E.PC</td>\n      <td>NaN</td>\n      <td>NaN</td>\n      <td>NaN</td>\n      <td>NaN</td>\n      <td>NaN</td>\n      <td>NaN</td>\n      <td>...</td>\n      <td>NaN</td>\n      <td>NaN</td>\n      <td>NaN</td>\n      <td>NaN</td>\n      <td>NaN</td>\n      <td>NaN</td>\n      <td>NaN</td>\n      <td>NaN</td>\n      <td>NaN</td>\n      <td>NaN</td>\n    </tr>\n    <tr>\n      <th>1</th>\n      <td>Africa Eastern and Southern</td>\n      <td>AFE</td>\n      <td>CO2 emissions (metric tons per capita)</td>\n      <td>EN.ATM.CO2E.PC</td>\n      <td>NaN</td>\n      <td>NaN</td>\n      <td>NaN</td>\n      <td>NaN</td>\n      <td>NaN</td>\n      <td>NaN</td>\n      <td>...</td>\n      <td>1.005027</td>\n      <td>1.016649</td>\n      <td>0.966589</td>\n      <td>0.948410</td>\n      <td>0.937926</td>\n      <td>0.917507</td>\n      <td>0.913618</td>\n      <td>NaN</td>\n      <td>NaN</td>\n      <td>NaN</td>\n    </tr>\n    <tr>\n      <th>2</th>\n      <td>Afghanistan</td>\n      <td>AFG</td>\n      <td>CO2 emissions (metric tons per capita)</td>\n      <td>EN.ATM.CO2E.PC</td>\n      <td>NaN</td>\n      <td>NaN</td>\n      <td>NaN</td>\n      <td>NaN</td>\n      <td>NaN</td>\n      <td>NaN</td>\n      <td>...</td>\n      <td>0.185624</td>\n      <td>0.146236</td>\n      <td>0.172897</td>\n      <td>0.149789</td>\n      <td>0.131695</td>\n      <td>0.163295</td>\n      <td>0.159824</td>\n      <td>NaN</td>\n      <td>NaN</td>\n      <td>NaN</td>\n    </tr>\n    <tr>\n      <th>3</th>\n      <td>Africa Western and Central</td>\n      <td>AFW</td>\n      <td>CO2 emissions (metric tons per capita)</td>\n      <td>EN.ATM.CO2E.PC</td>\n      <td>NaN</td>\n      <td>NaN</td>\n      <td>NaN</td>\n      <td>NaN</td>\n      <td>NaN</td>\n      <td>NaN</td>\n      <td>...</td>\n      <td>0.508099</td>\n      <td>0.515960</td>\n      <td>0.494065</td>\n      <td>0.499405</td>\n      <td>0.483140</td>\n      <td>0.486456</td>\n      <td>0.493923</td>\n      <td>NaN</td>\n      <td>NaN</td>\n      <td>NaN</td>\n    </tr>\n    <tr>\n      <th>4</th>\n      <td>Angola</td>\n      <td>AGO</td>\n      <td>CO2 emissions (metric tons per capita)</td>\n      <td>EN.ATM.CO2E.PC</td>\n      <td>NaN</td>\n      <td>NaN</td>\n      <td>NaN</td>\n      <td>NaN</td>\n      <td>NaN</td>\n      <td>NaN</td>\n      <td>...</td>\n      <td>1.036294</td>\n      <td>1.099779</td>\n      <td>1.135044</td>\n      <td>1.031811</td>\n      <td>0.813301</td>\n      <td>0.777675</td>\n      <td>0.792137</td>\n      <td>NaN</td>\n      <td>NaN</td>\n      <td>NaN</td>\n    </tr>\n  </tbody>\n</table>\n<p>5 rows × 67 columns</p>\n</div>"
     },
     "execution_count": 80,
     "metadata": {},
     "output_type": "execute_result"
    }
   ],
   "source": [
    "data.head(5)"
   ]
  },
  {
   "cell_type": "markdown",
   "metadata": {},
   "source": [
    "### Data Cleaning"
   ]
  },
  {
   "cell_type": "markdown",
   "metadata": {},
   "source": [
    "#### Look at the data. What problems do we have with the data quality and how do we solve them?"
   ]
  },
  {
   "cell_type": "markdown",
   "metadata": {},
   "source": [
    "For example, what's wrong with these rows?"
   ]
  },
  {
   "cell_type": "code",
   "execution_count": 81,
   "metadata": {},
   "outputs": [
    {
     "data": {
      "text/plain": "    Country Name Country Code                          Indicator Name  \\\n93          Guam          GUM  CO2 emissions (metric tons per capita)   \n261       Kosovo          XKX  CO2 emissions (metric tons per capita)   \n264       Zambia          ZMB  CO2 emissions (metric tons per capita)   \n265     Zimbabwe          ZWE  CO2 emissions (metric tons per capita)   \n\n     Indicator Code  1960  1961  1962  1963  1964  1965  ...      2013  \\\n93   EN.ATM.CO2E.PC   NaN   NaN   NaN   NaN   NaN   NaN  ...       NaN   \n261  EN.ATM.CO2E.PC   NaN   NaN   NaN   NaN   NaN   NaN  ...       NaN   \n264  EN.ATM.CO2E.PC   NaN   NaN   NaN   NaN   NaN   NaN  ...  0.284058   \n265  EN.ATM.CO2E.PC   NaN   NaN   NaN   NaN   NaN   NaN  ...  0.919824   \n\n         2014      2015      2016      2017      2018      2019  2020  2021  \\\n93        NaN       NaN       NaN       NaN       NaN       NaN   NaN   NaN   \n261       NaN       NaN       NaN       NaN       NaN       NaN   NaN   NaN   \n264  0.304550  0.312355  0.325115  0.404068  0.445489  0.380717   NaN   NaN   \n265  0.889104  0.899770  0.785441  0.726297  0.857411  0.802979   NaN   NaN   \n\n     Unnamed: 66  \n93           NaN  \n261          NaN  \n264          NaN  \n265          NaN  \n\n[4 rows x 67 columns]",
      "text/html": "<div>\n<style scoped>\n    .dataframe tbody tr th:only-of-type {\n        vertical-align: middle;\n    }\n\n    .dataframe tbody tr th {\n        vertical-align: top;\n    }\n\n    .dataframe thead th {\n        text-align: right;\n    }\n</style>\n<table border=\"1\" class=\"dataframe\">\n  <thead>\n    <tr style=\"text-align: right;\">\n      <th></th>\n      <th>Country Name</th>\n      <th>Country Code</th>\n      <th>Indicator Name</th>\n      <th>Indicator Code</th>\n      <th>1960</th>\n      <th>1961</th>\n      <th>1962</th>\n      <th>1963</th>\n      <th>1964</th>\n      <th>1965</th>\n      <th>...</th>\n      <th>2013</th>\n      <th>2014</th>\n      <th>2015</th>\n      <th>2016</th>\n      <th>2017</th>\n      <th>2018</th>\n      <th>2019</th>\n      <th>2020</th>\n      <th>2021</th>\n      <th>Unnamed: 66</th>\n    </tr>\n  </thead>\n  <tbody>\n    <tr>\n      <th>93</th>\n      <td>Guam</td>\n      <td>GUM</td>\n      <td>CO2 emissions (metric tons per capita)</td>\n      <td>EN.ATM.CO2E.PC</td>\n      <td>NaN</td>\n      <td>NaN</td>\n      <td>NaN</td>\n      <td>NaN</td>\n      <td>NaN</td>\n      <td>NaN</td>\n      <td>...</td>\n      <td>NaN</td>\n      <td>NaN</td>\n      <td>NaN</td>\n      <td>NaN</td>\n      <td>NaN</td>\n      <td>NaN</td>\n      <td>NaN</td>\n      <td>NaN</td>\n      <td>NaN</td>\n      <td>NaN</td>\n    </tr>\n    <tr>\n      <th>261</th>\n      <td>Kosovo</td>\n      <td>XKX</td>\n      <td>CO2 emissions (metric tons per capita)</td>\n      <td>EN.ATM.CO2E.PC</td>\n      <td>NaN</td>\n      <td>NaN</td>\n      <td>NaN</td>\n      <td>NaN</td>\n      <td>NaN</td>\n      <td>NaN</td>\n      <td>...</td>\n      <td>NaN</td>\n      <td>NaN</td>\n      <td>NaN</td>\n      <td>NaN</td>\n      <td>NaN</td>\n      <td>NaN</td>\n      <td>NaN</td>\n      <td>NaN</td>\n      <td>NaN</td>\n      <td>NaN</td>\n    </tr>\n    <tr>\n      <th>264</th>\n      <td>Zambia</td>\n      <td>ZMB</td>\n      <td>CO2 emissions (metric tons per capita)</td>\n      <td>EN.ATM.CO2E.PC</td>\n      <td>NaN</td>\n      <td>NaN</td>\n      <td>NaN</td>\n      <td>NaN</td>\n      <td>NaN</td>\n      <td>NaN</td>\n      <td>...</td>\n      <td>0.284058</td>\n      <td>0.304550</td>\n      <td>0.312355</td>\n      <td>0.325115</td>\n      <td>0.404068</td>\n      <td>0.445489</td>\n      <td>0.380717</td>\n      <td>NaN</td>\n      <td>NaN</td>\n      <td>NaN</td>\n    </tr>\n    <tr>\n      <th>265</th>\n      <td>Zimbabwe</td>\n      <td>ZWE</td>\n      <td>CO2 emissions (metric tons per capita)</td>\n      <td>EN.ATM.CO2E.PC</td>\n      <td>NaN</td>\n      <td>NaN</td>\n      <td>NaN</td>\n      <td>NaN</td>\n      <td>NaN</td>\n      <td>NaN</td>\n      <td>...</td>\n      <td>0.919824</td>\n      <td>0.889104</td>\n      <td>0.899770</td>\n      <td>0.785441</td>\n      <td>0.726297</td>\n      <td>0.857411</td>\n      <td>0.802979</td>\n      <td>NaN</td>\n      <td>NaN</td>\n      <td>NaN</td>\n    </tr>\n  </tbody>\n</table>\n<p>4 rows × 67 columns</p>\n</div>"
     },
     "execution_count": 81,
     "metadata": {},
     "output_type": "execute_result"
    }
   ],
   "source": [
    "data.loc[[93,261,264,265]]"
   ]
  },
  {
   "cell_type": "markdown",
   "metadata": {},
   "source": [
    "## Problems with the data quality:\n",
    "1. Some rows are aggregates of countries rather than actual countries (e.g., \"World\").\n",
    "2. Some columns are irrelevant and can be removed (e.g., \"Indicator Name\").\n",
    "3. Some years have no data for any country (e.g., 2019).\n",
    "4. Some countries have no data for any year. (e.g., \"Taiwan, China\")"
   ]
  },
  {
   "cell_type": "markdown",
   "metadata": {},
   "source": [
    "<br>"
   ]
  },
  {
   "cell_type": "markdown",
   "metadata": {},
   "source": [
    "<h2> 1. Some rows are aggregates of countries rather than actual countries (e.g., \"World\"). </h2>\n",
    "\n",
    "**Goals:**  \n",
    "Remove rows that do not contain an actual country. Fortunately, the World Bank provides us with metadata on which rows are countries and which are aggregates.\n",
    "- import countries_metadata.csv (file named \"Metadata_Country_API_EN.ATM.CO2E.PC_DS2_en_csv_v2_3012494.csv\")\n",
    "- merge metadata with `data` on `Country Code`"
   ]
  },
  {
   "cell_type": "markdown",
   "metadata": {},
   "source": [
    "#### Import `countries_metadata.csv`"
   ]
  },
  {
   "cell_type": "code",
   "execution_count": 105,
   "metadata": {},
   "outputs": [
    {
     "data": {
      "text/plain": "    Country Code                      Region          IncomeGroup  \\\n0            ABW   Latin America & Caribbean          High income   \n1            AFE                         NaN                  NaN   \n2            AFG                  South Asia           Low income   \n3            AFW                         NaN                  NaN   \n4            AGO          Sub-Saharan Africa  Lower middle income   \n..           ...                         ...                  ...   \n260          XKX       Europe & Central Asia  Upper middle income   \n261          YEM  Middle East & North Africa           Low income   \n262          ZAF          Sub-Saharan Africa  Upper middle income   \n263          ZMB          Sub-Saharan Africa           Low income   \n264          ZWE          Sub-Saharan Africa  Lower middle income   \n\n                                          SpecialNotes  \\\n0                                                  NaN   \n1    26 countries, stretching from the Red Sea in t...   \n2    The reporting period for national accounts dat...   \n3    22 countries, stretching from the westernmost ...   \n4    The World Bank systematically assesses the app...   \n..                                                 ...   \n260                                                NaN   \n261  The World Bank systematically assesses the app...   \n262  Fiscal year end: March 31; reporting period fo...   \n263  National accounts data were rebased to reflect...   \n264  National Accounts data are reported in Zimbabw...   \n\n                       TableName  Unnamed: 5  \n0                          Aruba         NaN  \n1    Africa Eastern and Southern         NaN  \n2                    Afghanistan         NaN  \n3     Africa Western and Central         NaN  \n4                         Angola         NaN  \n..                           ...         ...  \n260                       Kosovo         NaN  \n261                  Yemen, Rep.         NaN  \n262                 South Africa         NaN  \n263                       Zambia         NaN  \n264                     Zimbabwe         NaN  \n\n[265 rows x 6 columns]",
      "text/html": "<div>\n<style scoped>\n    .dataframe tbody tr th:only-of-type {\n        vertical-align: middle;\n    }\n\n    .dataframe tbody tr th {\n        vertical-align: top;\n    }\n\n    .dataframe thead th {\n        text-align: right;\n    }\n</style>\n<table border=\"1\" class=\"dataframe\">\n  <thead>\n    <tr style=\"text-align: right;\">\n      <th></th>\n      <th>Country Code</th>\n      <th>Region</th>\n      <th>IncomeGroup</th>\n      <th>SpecialNotes</th>\n      <th>TableName</th>\n      <th>Unnamed: 5</th>\n    </tr>\n  </thead>\n  <tbody>\n    <tr>\n      <th>0</th>\n      <td>ABW</td>\n      <td>Latin America &amp; Caribbean</td>\n      <td>High income</td>\n      <td>NaN</td>\n      <td>Aruba</td>\n      <td>NaN</td>\n    </tr>\n    <tr>\n      <th>1</th>\n      <td>AFE</td>\n      <td>NaN</td>\n      <td>NaN</td>\n      <td>26 countries, stretching from the Red Sea in t...</td>\n      <td>Africa Eastern and Southern</td>\n      <td>NaN</td>\n    </tr>\n    <tr>\n      <th>2</th>\n      <td>AFG</td>\n      <td>South Asia</td>\n      <td>Low income</td>\n      <td>The reporting period for national accounts dat...</td>\n      <td>Afghanistan</td>\n      <td>NaN</td>\n    </tr>\n    <tr>\n      <th>3</th>\n      <td>AFW</td>\n      <td>NaN</td>\n      <td>NaN</td>\n      <td>22 countries, stretching from the westernmost ...</td>\n      <td>Africa Western and Central</td>\n      <td>NaN</td>\n    </tr>\n    <tr>\n      <th>4</th>\n      <td>AGO</td>\n      <td>Sub-Saharan Africa</td>\n      <td>Lower middle income</td>\n      <td>The World Bank systematically assesses the app...</td>\n      <td>Angola</td>\n      <td>NaN</td>\n    </tr>\n    <tr>\n      <th>...</th>\n      <td>...</td>\n      <td>...</td>\n      <td>...</td>\n      <td>...</td>\n      <td>...</td>\n      <td>...</td>\n    </tr>\n    <tr>\n      <th>260</th>\n      <td>XKX</td>\n      <td>Europe &amp; Central Asia</td>\n      <td>Upper middle income</td>\n      <td>NaN</td>\n      <td>Kosovo</td>\n      <td>NaN</td>\n    </tr>\n    <tr>\n      <th>261</th>\n      <td>YEM</td>\n      <td>Middle East &amp; North Africa</td>\n      <td>Low income</td>\n      <td>The World Bank systematically assesses the app...</td>\n      <td>Yemen, Rep.</td>\n      <td>NaN</td>\n    </tr>\n    <tr>\n      <th>262</th>\n      <td>ZAF</td>\n      <td>Sub-Saharan Africa</td>\n      <td>Upper middle income</td>\n      <td>Fiscal year end: March 31; reporting period fo...</td>\n      <td>South Africa</td>\n      <td>NaN</td>\n    </tr>\n    <tr>\n      <th>263</th>\n      <td>ZMB</td>\n      <td>Sub-Saharan Africa</td>\n      <td>Low income</td>\n      <td>National accounts data were rebased to reflect...</td>\n      <td>Zambia</td>\n      <td>NaN</td>\n    </tr>\n    <tr>\n      <th>264</th>\n      <td>ZWE</td>\n      <td>Sub-Saharan Africa</td>\n      <td>Lower middle income</td>\n      <td>National Accounts data are reported in Zimbabw...</td>\n      <td>Zimbabwe</td>\n      <td>NaN</td>\n    </tr>\n  </tbody>\n</table>\n<p>265 rows × 6 columns</p>\n</div>"
     },
     "execution_count": 105,
     "metadata": {},
     "output_type": "execute_result"
    }
   ],
   "source": [
    "countries_metadata = pd.read_csv(\"Metadata_Country_API_EN.ATM.CO2E.PC_DS2_en_csv_v2_4700403.csv\")\n",
    "countries_metadata"
   ]
  },
  {
   "cell_type": "markdown",
   "metadata": {},
   "source": [
    "#### How do we identify when a listed \"Country Name\" is a country or an aggregated region?"
   ]
  },
  {
   "cell_type": "markdown",
   "metadata": {},
   "source": [
    "Notice when the row is an aggregate like \"Arab World\", the `Region` and `IncomeGroup` are consistently NaN (Not a Number). We can use this rule to remove all non-country regions."
   ]
  },
  {
   "cell_type": "markdown",
   "metadata": {},
   "source": [
    "#### Merge `data` with `metadata` on the key, `Country Code`"
   ]
  },
  {
   "cell_type": "markdown",
   "metadata": {},
   "source": [
    "hint: merge()"
   ]
  },
  {
   "cell_type": "code",
   "execution_count": 84,
   "metadata": {},
   "outputs": [
    {
     "data": {
      "text/plain": "                    Country Name Country Code  \\\n0                          Aruba          ABW   \n1    Africa Eastern and Southern          AFE   \n2                    Afghanistan          AFG   \n3     Africa Western and Central          AFW   \n4                         Angola          AGO   \n..                           ...          ...   \n260                       Kosovo          XKX   \n261                  Yemen, Rep.          YEM   \n262                 South Africa          ZAF   \n263                       Zambia          ZMB   \n264                     Zimbabwe          ZWE   \n\n                             Indicator Name  Indicator Code  1960  1961  1962  \\\n0    CO2 emissions (metric tons per capita)  EN.ATM.CO2E.PC   NaN   NaN   NaN   \n1    CO2 emissions (metric tons per capita)  EN.ATM.CO2E.PC   NaN   NaN   NaN   \n2    CO2 emissions (metric tons per capita)  EN.ATM.CO2E.PC   NaN   NaN   NaN   \n3    CO2 emissions (metric tons per capita)  EN.ATM.CO2E.PC   NaN   NaN   NaN   \n4    CO2 emissions (metric tons per capita)  EN.ATM.CO2E.PC   NaN   NaN   NaN   \n..                                      ...             ...   ...   ...   ...   \n260  CO2 emissions (metric tons per capita)  EN.ATM.CO2E.PC   NaN   NaN   NaN   \n261  CO2 emissions (metric tons per capita)  EN.ATM.CO2E.PC   NaN   NaN   NaN   \n262  CO2 emissions (metric tons per capita)  EN.ATM.CO2E.PC   NaN   NaN   NaN   \n263  CO2 emissions (metric tons per capita)  EN.ATM.CO2E.PC   NaN   NaN   NaN   \n264  CO2 emissions (metric tons per capita)  EN.ATM.CO2E.PC   NaN   NaN   NaN   \n\n     1963  1964  1965  ...                    Region_x        IncomeGroup_x  \\\n0     NaN   NaN   NaN  ...   Latin America & Caribbean          High income   \n1     NaN   NaN   NaN  ...                         NaN                  NaN   \n2     NaN   NaN   NaN  ...                  South Asia           Low income   \n3     NaN   NaN   NaN  ...                         NaN                  NaN   \n4     NaN   NaN   NaN  ...          Sub-Saharan Africa  Lower middle income   \n..    ...   ...   ...  ...                         ...                  ...   \n260   NaN   NaN   NaN  ...       Europe & Central Asia  Upper middle income   \n261   NaN   NaN   NaN  ...  Middle East & North Africa           Low income   \n262   NaN   NaN   NaN  ...          Sub-Saharan Africa  Upper middle income   \n263   NaN   NaN   NaN  ...          Sub-Saharan Africa           Low income   \n264   NaN   NaN   NaN  ...          Sub-Saharan Africa  Lower middle income   \n\n                                        SpecialNotes_x  \\\n0                                                  NaN   \n1    26 countries, stretching from the Red Sea in t...   \n2    The reporting period for national accounts dat...   \n3    22 countries, stretching from the westernmost ...   \n4    The World Bank systematically assesses the app...   \n..                                                 ...   \n260                                                NaN   \n261  The World Bank systematically assesses the app...   \n262  Fiscal year end: March 31; reporting period fo...   \n263  National accounts data were rebased to reflect...   \n264  National Accounts data are reported in Zimbabw...   \n\n                     TableName_x  Unnamed: 5_x                    Region_y  \\\n0                          Aruba           NaN   Latin America & Caribbean   \n1    Africa Eastern and Southern           NaN                         NaN   \n2                    Afghanistan           NaN                  South Asia   \n3     Africa Western and Central           NaN                         NaN   \n4                         Angola           NaN          Sub-Saharan Africa   \n..                           ...           ...                         ...   \n260                       Kosovo           NaN       Europe & Central Asia   \n261                  Yemen, Rep.           NaN  Middle East & North Africa   \n262                 South Africa           NaN          Sub-Saharan Africa   \n263                       Zambia           NaN          Sub-Saharan Africa   \n264                     Zimbabwe           NaN          Sub-Saharan Africa   \n\n           IncomeGroup_y                                     SpecialNotes_y  \\\n0            High income                                                NaN   \n1                    NaN  26 countries, stretching from the Red Sea in t...   \n2             Low income  The reporting period for national accounts dat...   \n3                    NaN  22 countries, stretching from the westernmost ...   \n4    Lower middle income  The World Bank systematically assesses the app...   \n..                   ...                                                ...   \n260  Upper middle income                                                NaN   \n261           Low income  The World Bank systematically assesses the app...   \n262  Upper middle income  Fiscal year end: March 31; reporting period fo...   \n263           Low income  National accounts data were rebased to reflect...   \n264  Lower middle income  National Accounts data are reported in Zimbabw...   \n\n                     TableName_y  Unnamed: 5_y  \n0                          Aruba           NaN  \n1    Africa Eastern and Southern           NaN  \n2                    Afghanistan           NaN  \n3     Africa Western and Central           NaN  \n4                         Angola           NaN  \n..                           ...           ...  \n260                       Kosovo           NaN  \n261                  Yemen, Rep.           NaN  \n262                 South Africa           NaN  \n263                       Zambia           NaN  \n264                     Zimbabwe           NaN  \n\n[265 rows x 77 columns]",
      "text/html": "<div>\n<style scoped>\n    .dataframe tbody tr th:only-of-type {\n        vertical-align: middle;\n    }\n\n    .dataframe tbody tr th {\n        vertical-align: top;\n    }\n\n    .dataframe thead th {\n        text-align: right;\n    }\n</style>\n<table border=\"1\" class=\"dataframe\">\n  <thead>\n    <tr style=\"text-align: right;\">\n      <th></th>\n      <th>Country Name</th>\n      <th>Country Code</th>\n      <th>Indicator Name</th>\n      <th>Indicator Code</th>\n      <th>1960</th>\n      <th>1961</th>\n      <th>1962</th>\n      <th>1963</th>\n      <th>1964</th>\n      <th>1965</th>\n      <th>...</th>\n      <th>Region_x</th>\n      <th>IncomeGroup_x</th>\n      <th>SpecialNotes_x</th>\n      <th>TableName_x</th>\n      <th>Unnamed: 5_x</th>\n      <th>Region_y</th>\n      <th>IncomeGroup_y</th>\n      <th>SpecialNotes_y</th>\n      <th>TableName_y</th>\n      <th>Unnamed: 5_y</th>\n    </tr>\n  </thead>\n  <tbody>\n    <tr>\n      <th>0</th>\n      <td>Aruba</td>\n      <td>ABW</td>\n      <td>CO2 emissions (metric tons per capita)</td>\n      <td>EN.ATM.CO2E.PC</td>\n      <td>NaN</td>\n      <td>NaN</td>\n      <td>NaN</td>\n      <td>NaN</td>\n      <td>NaN</td>\n      <td>NaN</td>\n      <td>...</td>\n      <td>Latin America &amp; Caribbean</td>\n      <td>High income</td>\n      <td>NaN</td>\n      <td>Aruba</td>\n      <td>NaN</td>\n      <td>Latin America &amp; Caribbean</td>\n      <td>High income</td>\n      <td>NaN</td>\n      <td>Aruba</td>\n      <td>NaN</td>\n    </tr>\n    <tr>\n      <th>1</th>\n      <td>Africa Eastern and Southern</td>\n      <td>AFE</td>\n      <td>CO2 emissions (metric tons per capita)</td>\n      <td>EN.ATM.CO2E.PC</td>\n      <td>NaN</td>\n      <td>NaN</td>\n      <td>NaN</td>\n      <td>NaN</td>\n      <td>NaN</td>\n      <td>NaN</td>\n      <td>...</td>\n      <td>NaN</td>\n      <td>NaN</td>\n      <td>26 countries, stretching from the Red Sea in t...</td>\n      <td>Africa Eastern and Southern</td>\n      <td>NaN</td>\n      <td>NaN</td>\n      <td>NaN</td>\n      <td>26 countries, stretching from the Red Sea in t...</td>\n      <td>Africa Eastern and Southern</td>\n      <td>NaN</td>\n    </tr>\n    <tr>\n      <th>2</th>\n      <td>Afghanistan</td>\n      <td>AFG</td>\n      <td>CO2 emissions (metric tons per capita)</td>\n      <td>EN.ATM.CO2E.PC</td>\n      <td>NaN</td>\n      <td>NaN</td>\n      <td>NaN</td>\n      <td>NaN</td>\n      <td>NaN</td>\n      <td>NaN</td>\n      <td>...</td>\n      <td>South Asia</td>\n      <td>Low income</td>\n      <td>The reporting period for national accounts dat...</td>\n      <td>Afghanistan</td>\n      <td>NaN</td>\n      <td>South Asia</td>\n      <td>Low income</td>\n      <td>The reporting period for national accounts dat...</td>\n      <td>Afghanistan</td>\n      <td>NaN</td>\n    </tr>\n    <tr>\n      <th>3</th>\n      <td>Africa Western and Central</td>\n      <td>AFW</td>\n      <td>CO2 emissions (metric tons per capita)</td>\n      <td>EN.ATM.CO2E.PC</td>\n      <td>NaN</td>\n      <td>NaN</td>\n      <td>NaN</td>\n      <td>NaN</td>\n      <td>NaN</td>\n      <td>NaN</td>\n      <td>...</td>\n      <td>NaN</td>\n      <td>NaN</td>\n      <td>22 countries, stretching from the westernmost ...</td>\n      <td>Africa Western and Central</td>\n      <td>NaN</td>\n      <td>NaN</td>\n      <td>NaN</td>\n      <td>22 countries, stretching from the westernmost ...</td>\n      <td>Africa Western and Central</td>\n      <td>NaN</td>\n    </tr>\n    <tr>\n      <th>4</th>\n      <td>Angola</td>\n      <td>AGO</td>\n      <td>CO2 emissions (metric tons per capita)</td>\n      <td>EN.ATM.CO2E.PC</td>\n      <td>NaN</td>\n      <td>NaN</td>\n      <td>NaN</td>\n      <td>NaN</td>\n      <td>NaN</td>\n      <td>NaN</td>\n      <td>...</td>\n      <td>Sub-Saharan Africa</td>\n      <td>Lower middle income</td>\n      <td>The World Bank systematically assesses the app...</td>\n      <td>Angola</td>\n      <td>NaN</td>\n      <td>Sub-Saharan Africa</td>\n      <td>Lower middle income</td>\n      <td>The World Bank systematically assesses the app...</td>\n      <td>Angola</td>\n      <td>NaN</td>\n    </tr>\n    <tr>\n      <th>...</th>\n      <td>...</td>\n      <td>...</td>\n      <td>...</td>\n      <td>...</td>\n      <td>...</td>\n      <td>...</td>\n      <td>...</td>\n      <td>...</td>\n      <td>...</td>\n      <td>...</td>\n      <td>...</td>\n      <td>...</td>\n      <td>...</td>\n      <td>...</td>\n      <td>...</td>\n      <td>...</td>\n      <td>...</td>\n      <td>...</td>\n      <td>...</td>\n      <td>...</td>\n      <td>...</td>\n    </tr>\n    <tr>\n      <th>260</th>\n      <td>Kosovo</td>\n      <td>XKX</td>\n      <td>CO2 emissions (metric tons per capita)</td>\n      <td>EN.ATM.CO2E.PC</td>\n      <td>NaN</td>\n      <td>NaN</td>\n      <td>NaN</td>\n      <td>NaN</td>\n      <td>NaN</td>\n      <td>NaN</td>\n      <td>...</td>\n      <td>Europe &amp; Central Asia</td>\n      <td>Upper middle income</td>\n      <td>NaN</td>\n      <td>Kosovo</td>\n      <td>NaN</td>\n      <td>Europe &amp; Central Asia</td>\n      <td>Upper middle income</td>\n      <td>NaN</td>\n      <td>Kosovo</td>\n      <td>NaN</td>\n    </tr>\n    <tr>\n      <th>261</th>\n      <td>Yemen, Rep.</td>\n      <td>YEM</td>\n      <td>CO2 emissions (metric tons per capita)</td>\n      <td>EN.ATM.CO2E.PC</td>\n      <td>NaN</td>\n      <td>NaN</td>\n      <td>NaN</td>\n      <td>NaN</td>\n      <td>NaN</td>\n      <td>NaN</td>\n      <td>...</td>\n      <td>Middle East &amp; North Africa</td>\n      <td>Low income</td>\n      <td>The World Bank systematically assesses the app...</td>\n      <td>Yemen, Rep.</td>\n      <td>NaN</td>\n      <td>Middle East &amp; North Africa</td>\n      <td>Low income</td>\n      <td>The World Bank systematically assesses the app...</td>\n      <td>Yemen, Rep.</td>\n      <td>NaN</td>\n    </tr>\n    <tr>\n      <th>262</th>\n      <td>South Africa</td>\n      <td>ZAF</td>\n      <td>CO2 emissions (metric tons per capita)</td>\n      <td>EN.ATM.CO2E.PC</td>\n      <td>NaN</td>\n      <td>NaN</td>\n      <td>NaN</td>\n      <td>NaN</td>\n      <td>NaN</td>\n      <td>NaN</td>\n      <td>...</td>\n      <td>Sub-Saharan Africa</td>\n      <td>Upper middle income</td>\n      <td>Fiscal year end: March 31; reporting period fo...</td>\n      <td>South Africa</td>\n      <td>NaN</td>\n      <td>Sub-Saharan Africa</td>\n      <td>Upper middle income</td>\n      <td>Fiscal year end: March 31; reporting period fo...</td>\n      <td>South Africa</td>\n      <td>NaN</td>\n    </tr>\n    <tr>\n      <th>263</th>\n      <td>Zambia</td>\n      <td>ZMB</td>\n      <td>CO2 emissions (metric tons per capita)</td>\n      <td>EN.ATM.CO2E.PC</td>\n      <td>NaN</td>\n      <td>NaN</td>\n      <td>NaN</td>\n      <td>NaN</td>\n      <td>NaN</td>\n      <td>NaN</td>\n      <td>...</td>\n      <td>Sub-Saharan Africa</td>\n      <td>Low income</td>\n      <td>National accounts data were rebased to reflect...</td>\n      <td>Zambia</td>\n      <td>NaN</td>\n      <td>Sub-Saharan Africa</td>\n      <td>Low income</td>\n      <td>National accounts data were rebased to reflect...</td>\n      <td>Zambia</td>\n      <td>NaN</td>\n    </tr>\n    <tr>\n      <th>264</th>\n      <td>Zimbabwe</td>\n      <td>ZWE</td>\n      <td>CO2 emissions (metric tons per capita)</td>\n      <td>EN.ATM.CO2E.PC</td>\n      <td>NaN</td>\n      <td>NaN</td>\n      <td>NaN</td>\n      <td>NaN</td>\n      <td>NaN</td>\n      <td>NaN</td>\n      <td>...</td>\n      <td>Sub-Saharan Africa</td>\n      <td>Lower middle income</td>\n      <td>National Accounts data are reported in Zimbabw...</td>\n      <td>Zimbabwe</td>\n      <td>NaN</td>\n      <td>Sub-Saharan Africa</td>\n      <td>Lower middle income</td>\n      <td>National Accounts data are reported in Zimbabw...</td>\n      <td>Zimbabwe</td>\n      <td>NaN</td>\n    </tr>\n  </tbody>\n</table>\n<p>265 rows × 77 columns</p>\n</div>"
     },
     "execution_count": 84,
     "metadata": {},
     "output_type": "execute_result"
    }
   ],
   "source": [
    "data = data.merge(countries_metadata, left_on=\"Country Code\", right_on=\"Country Code\")\n",
    "data"
   ]
  },
  {
   "cell_type": "markdown",
   "metadata": {},
   "source": [
    "**Note:** The region values are NaN when the row is not a actual country."
   ]
  },
  {
   "cell_type": "markdown",
   "metadata": {},
   "source": [
    "#### Remove rows where `Region` is NaN"
   ]
  },
  {
   "cell_type": "markdown",
   "metadata": {},
   "source": [
    "hint:\n",
    "\n",
    "notnull - Detect existing (non-missing) values. Return True/False in array\n",
    "\n",
    "Also, use a filtering through an array, that contains True/False"
   ]
  },
  {
   "cell_type": "code",
   "execution_count": 59,
   "metadata": {},
   "outputs": [
    {
     "data": {
      "text/plain": "     Country Name                      Region\n0           Aruba   Latin America & Caribbean\n1     Afghanistan                  South Asia\n2          Angola          Sub-Saharan Africa\n3         Albania       Europe & Central Asia\n4         Andorra       Europe & Central Asia\n..            ...                         ...\n212        Kosovo       Europe & Central Asia\n213   Yemen, Rep.  Middle East & North Africa\n214  South Africa          Sub-Saharan Africa\n215        Zambia          Sub-Saharan Africa\n216      Zimbabwe          Sub-Saharan Africa\n\n[217 rows x 2 columns]",
      "text/html": "<div>\n<style scoped>\n    .dataframe tbody tr th:only-of-type {\n        vertical-align: middle;\n    }\n\n    .dataframe tbody tr th {\n        vertical-align: top;\n    }\n\n    .dataframe thead th {\n        text-align: right;\n    }\n</style>\n<table border=\"1\" class=\"dataframe\">\n  <thead>\n    <tr style=\"text-align: right;\">\n      <th></th>\n      <th>Country Name</th>\n      <th>Region</th>\n    </tr>\n  </thead>\n  <tbody>\n    <tr>\n      <th>0</th>\n      <td>Aruba</td>\n      <td>Latin America &amp; Caribbean</td>\n    </tr>\n    <tr>\n      <th>1</th>\n      <td>Afghanistan</td>\n      <td>South Asia</td>\n    </tr>\n    <tr>\n      <th>2</th>\n      <td>Angola</td>\n      <td>Sub-Saharan Africa</td>\n    </tr>\n    <tr>\n      <th>3</th>\n      <td>Albania</td>\n      <td>Europe &amp; Central Asia</td>\n    </tr>\n    <tr>\n      <th>4</th>\n      <td>Andorra</td>\n      <td>Europe &amp; Central Asia</td>\n    </tr>\n    <tr>\n      <th>...</th>\n      <td>...</td>\n      <td>...</td>\n    </tr>\n    <tr>\n      <th>212</th>\n      <td>Kosovo</td>\n      <td>Europe &amp; Central Asia</td>\n    </tr>\n    <tr>\n      <th>213</th>\n      <td>Yemen, Rep.</td>\n      <td>Middle East &amp; North Africa</td>\n    </tr>\n    <tr>\n      <th>214</th>\n      <td>South Africa</td>\n      <td>Sub-Saharan Africa</td>\n    </tr>\n    <tr>\n      <th>215</th>\n      <td>Zambia</td>\n      <td>Sub-Saharan Africa</td>\n    </tr>\n    <tr>\n      <th>216</th>\n      <td>Zimbabwe</td>\n      <td>Sub-Saharan Africa</td>\n    </tr>\n  </tbody>\n</table>\n<p>217 rows × 2 columns</p>\n</div>"
     },
     "execution_count": 59,
     "metadata": {},
     "output_type": "execute_result"
    }
   ],
   "source": [
    "data[\"nan\"] = data[\"Region\"].notnull()\n",
    "data = data.set_index(\"nan\")\n",
    "data = data.loc[bool(1)]   # bool(1) = True\n",
    "#print(data)\n",
    "data = data.reset_index()\n",
    "data = data.drop([\"nan\"], axis = 1)\n",
    "data[[\"Country Name\", \"Region\"]]"
   ]
  },
  {
   "cell_type": "markdown",
   "metadata": {},
   "source": [
    "<br>"
   ]
  },
  {
   "cell_type": "markdown",
   "metadata": {},
   "source": [
    "<h2>2. Some columns are irrelevant and can be removed.</h2>"
   ]
  },
  {
   "cell_type": "markdown",
   "metadata": {},
   "source": [
    "**Goals:**  \n",
    "Remove the following irrelevant columns:\n",
    "- Column 3: **\"Indicator Name\"**\n",
    "- Column 4: **\"Indicator Code\"**"
   ]
  },
  {
   "cell_type": "code",
   "execution_count": 93,
   "metadata": {},
   "outputs": [
    {
     "data": {
      "text/plain": "                    Country Name Country Code  \\\n0                          Aruba          ABW   \n1    Africa Eastern and Southern          AFE   \n2                    Afghanistan          AFG   \n3     Africa Western and Central          AFW   \n4                         Angola          AGO   \n..                           ...          ...   \n260                       Kosovo          XKX   \n261                  Yemen, Rep.          YEM   \n262                 South Africa          ZAF   \n263                       Zambia          ZMB   \n264                     Zimbabwe          ZWE   \n\n                             Indicator Name  Indicator Code  1960  1961  1962  \\\n0    CO2 emissions (metric tons per capita)  EN.ATM.CO2E.PC   NaN   NaN   NaN   \n1    CO2 emissions (metric tons per capita)  EN.ATM.CO2E.PC   NaN   NaN   NaN   \n2    CO2 emissions (metric tons per capita)  EN.ATM.CO2E.PC   NaN   NaN   NaN   \n3    CO2 emissions (metric tons per capita)  EN.ATM.CO2E.PC   NaN   NaN   NaN   \n4    CO2 emissions (metric tons per capita)  EN.ATM.CO2E.PC   NaN   NaN   NaN   \n..                                      ...             ...   ...   ...   ...   \n260  CO2 emissions (metric tons per capita)  EN.ATM.CO2E.PC   NaN   NaN   NaN   \n261  CO2 emissions (metric tons per capita)  EN.ATM.CO2E.PC   NaN   NaN   NaN   \n262  CO2 emissions (metric tons per capita)  EN.ATM.CO2E.PC   NaN   NaN   NaN   \n263  CO2 emissions (metric tons per capita)  EN.ATM.CO2E.PC   NaN   NaN   NaN   \n264  CO2 emissions (metric tons per capita)  EN.ATM.CO2E.PC   NaN   NaN   NaN   \n\n     1963  1964  1965  ...                    Region_x        IncomeGroup_x  \\\n0     NaN   NaN   NaN  ...   Latin America & Caribbean          High income   \n1     NaN   NaN   NaN  ...                         NaN                  NaN   \n2     NaN   NaN   NaN  ...                  South Asia           Low income   \n3     NaN   NaN   NaN  ...                         NaN                  NaN   \n4     NaN   NaN   NaN  ...          Sub-Saharan Africa  Lower middle income   \n..    ...   ...   ...  ...                         ...                  ...   \n260   NaN   NaN   NaN  ...       Europe & Central Asia  Upper middle income   \n261   NaN   NaN   NaN  ...  Middle East & North Africa           Low income   \n262   NaN   NaN   NaN  ...          Sub-Saharan Africa  Upper middle income   \n263   NaN   NaN   NaN  ...          Sub-Saharan Africa           Low income   \n264   NaN   NaN   NaN  ...          Sub-Saharan Africa  Lower middle income   \n\n                                        SpecialNotes_x  \\\n0                                                  NaN   \n1    26 countries, stretching from the Red Sea in t...   \n2    The reporting period for national accounts dat...   \n3    22 countries, stretching from the westernmost ...   \n4    The World Bank systematically assesses the app...   \n..                                                 ...   \n260                                                NaN   \n261  The World Bank systematically assesses the app...   \n262  Fiscal year end: March 31; reporting period fo...   \n263  National accounts data were rebased to reflect...   \n264  National Accounts data are reported in Zimbabw...   \n\n                     TableName_x  Unnamed: 5_x                    Region_y  \\\n0                          Aruba           NaN   Latin America & Caribbean   \n1    Africa Eastern and Southern           NaN                         NaN   \n2                    Afghanistan           NaN                  South Asia   \n3     Africa Western and Central           NaN                         NaN   \n4                         Angola           NaN          Sub-Saharan Africa   \n..                           ...           ...                         ...   \n260                       Kosovo           NaN       Europe & Central Asia   \n261                  Yemen, Rep.           NaN  Middle East & North Africa   \n262                 South Africa           NaN          Sub-Saharan Africa   \n263                       Zambia           NaN          Sub-Saharan Africa   \n264                     Zimbabwe           NaN          Sub-Saharan Africa   \n\n           IncomeGroup_y                                     SpecialNotes_y  \\\n0            High income                                                NaN   \n1                    NaN  26 countries, stretching from the Red Sea in t...   \n2             Low income  The reporting period for national accounts dat...   \n3                    NaN  22 countries, stretching from the westernmost ...   \n4    Lower middle income  The World Bank systematically assesses the app...   \n..                   ...                                                ...   \n260  Upper middle income                                                NaN   \n261           Low income  The World Bank systematically assesses the app...   \n262  Upper middle income  Fiscal year end: March 31; reporting period fo...   \n263           Low income  National accounts data were rebased to reflect...   \n264  Lower middle income  National Accounts data are reported in Zimbabw...   \n\n                     TableName_y  Unnamed: 5_y  \n0                          Aruba           NaN  \n1    Africa Eastern and Southern           NaN  \n2                    Afghanistan           NaN  \n3     Africa Western and Central           NaN  \n4                         Angola           NaN  \n..                           ...           ...  \n260                       Kosovo           NaN  \n261                  Yemen, Rep.           NaN  \n262                 South Africa           NaN  \n263                       Zambia           NaN  \n264                     Zimbabwe           NaN  \n\n[265 rows x 77 columns]",
      "text/html": "<div>\n<style scoped>\n    .dataframe tbody tr th:only-of-type {\n        vertical-align: middle;\n    }\n\n    .dataframe tbody tr th {\n        vertical-align: top;\n    }\n\n    .dataframe thead th {\n        text-align: right;\n    }\n</style>\n<table border=\"1\" class=\"dataframe\">\n  <thead>\n    <tr style=\"text-align: right;\">\n      <th></th>\n      <th>Country Name</th>\n      <th>Country Code</th>\n      <th>Indicator Name</th>\n      <th>Indicator Code</th>\n      <th>1960</th>\n      <th>1961</th>\n      <th>1962</th>\n      <th>1963</th>\n      <th>1964</th>\n      <th>1965</th>\n      <th>...</th>\n      <th>Region_x</th>\n      <th>IncomeGroup_x</th>\n      <th>SpecialNotes_x</th>\n      <th>TableName_x</th>\n      <th>Unnamed: 5_x</th>\n      <th>Region_y</th>\n      <th>IncomeGroup_y</th>\n      <th>SpecialNotes_y</th>\n      <th>TableName_y</th>\n      <th>Unnamed: 5_y</th>\n    </tr>\n  </thead>\n  <tbody>\n    <tr>\n      <th>0</th>\n      <td>Aruba</td>\n      <td>ABW</td>\n      <td>CO2 emissions (metric tons per capita)</td>\n      <td>EN.ATM.CO2E.PC</td>\n      <td>NaN</td>\n      <td>NaN</td>\n      <td>NaN</td>\n      <td>NaN</td>\n      <td>NaN</td>\n      <td>NaN</td>\n      <td>...</td>\n      <td>Latin America &amp; Caribbean</td>\n      <td>High income</td>\n      <td>NaN</td>\n      <td>Aruba</td>\n      <td>NaN</td>\n      <td>Latin America &amp; Caribbean</td>\n      <td>High income</td>\n      <td>NaN</td>\n      <td>Aruba</td>\n      <td>NaN</td>\n    </tr>\n    <tr>\n      <th>1</th>\n      <td>Africa Eastern and Southern</td>\n      <td>AFE</td>\n      <td>CO2 emissions (metric tons per capita)</td>\n      <td>EN.ATM.CO2E.PC</td>\n      <td>NaN</td>\n      <td>NaN</td>\n      <td>NaN</td>\n      <td>NaN</td>\n      <td>NaN</td>\n      <td>NaN</td>\n      <td>...</td>\n      <td>NaN</td>\n      <td>NaN</td>\n      <td>26 countries, stretching from the Red Sea in t...</td>\n      <td>Africa Eastern and Southern</td>\n      <td>NaN</td>\n      <td>NaN</td>\n      <td>NaN</td>\n      <td>26 countries, stretching from the Red Sea in t...</td>\n      <td>Africa Eastern and Southern</td>\n      <td>NaN</td>\n    </tr>\n    <tr>\n      <th>2</th>\n      <td>Afghanistan</td>\n      <td>AFG</td>\n      <td>CO2 emissions (metric tons per capita)</td>\n      <td>EN.ATM.CO2E.PC</td>\n      <td>NaN</td>\n      <td>NaN</td>\n      <td>NaN</td>\n      <td>NaN</td>\n      <td>NaN</td>\n      <td>NaN</td>\n      <td>...</td>\n      <td>South Asia</td>\n      <td>Low income</td>\n      <td>The reporting period for national accounts dat...</td>\n      <td>Afghanistan</td>\n      <td>NaN</td>\n      <td>South Asia</td>\n      <td>Low income</td>\n      <td>The reporting period for national accounts dat...</td>\n      <td>Afghanistan</td>\n      <td>NaN</td>\n    </tr>\n    <tr>\n      <th>3</th>\n      <td>Africa Western and Central</td>\n      <td>AFW</td>\n      <td>CO2 emissions (metric tons per capita)</td>\n      <td>EN.ATM.CO2E.PC</td>\n      <td>NaN</td>\n      <td>NaN</td>\n      <td>NaN</td>\n      <td>NaN</td>\n      <td>NaN</td>\n      <td>NaN</td>\n      <td>...</td>\n      <td>NaN</td>\n      <td>NaN</td>\n      <td>22 countries, stretching from the westernmost ...</td>\n      <td>Africa Western and Central</td>\n      <td>NaN</td>\n      <td>NaN</td>\n      <td>NaN</td>\n      <td>22 countries, stretching from the westernmost ...</td>\n      <td>Africa Western and Central</td>\n      <td>NaN</td>\n    </tr>\n    <tr>\n      <th>4</th>\n      <td>Angola</td>\n      <td>AGO</td>\n      <td>CO2 emissions (metric tons per capita)</td>\n      <td>EN.ATM.CO2E.PC</td>\n      <td>NaN</td>\n      <td>NaN</td>\n      <td>NaN</td>\n      <td>NaN</td>\n      <td>NaN</td>\n      <td>NaN</td>\n      <td>...</td>\n      <td>Sub-Saharan Africa</td>\n      <td>Lower middle income</td>\n      <td>The World Bank systematically assesses the app...</td>\n      <td>Angola</td>\n      <td>NaN</td>\n      <td>Sub-Saharan Africa</td>\n      <td>Lower middle income</td>\n      <td>The World Bank systematically assesses the app...</td>\n      <td>Angola</td>\n      <td>NaN</td>\n    </tr>\n    <tr>\n      <th>...</th>\n      <td>...</td>\n      <td>...</td>\n      <td>...</td>\n      <td>...</td>\n      <td>...</td>\n      <td>...</td>\n      <td>...</td>\n      <td>...</td>\n      <td>...</td>\n      <td>...</td>\n      <td>...</td>\n      <td>...</td>\n      <td>...</td>\n      <td>...</td>\n      <td>...</td>\n      <td>...</td>\n      <td>...</td>\n      <td>...</td>\n      <td>...</td>\n      <td>...</td>\n      <td>...</td>\n    </tr>\n    <tr>\n      <th>260</th>\n      <td>Kosovo</td>\n      <td>XKX</td>\n      <td>CO2 emissions (metric tons per capita)</td>\n      <td>EN.ATM.CO2E.PC</td>\n      <td>NaN</td>\n      <td>NaN</td>\n      <td>NaN</td>\n      <td>NaN</td>\n      <td>NaN</td>\n      <td>NaN</td>\n      <td>...</td>\n      <td>Europe &amp; Central Asia</td>\n      <td>Upper middle income</td>\n      <td>NaN</td>\n      <td>Kosovo</td>\n      <td>NaN</td>\n      <td>Europe &amp; Central Asia</td>\n      <td>Upper middle income</td>\n      <td>NaN</td>\n      <td>Kosovo</td>\n      <td>NaN</td>\n    </tr>\n    <tr>\n      <th>261</th>\n      <td>Yemen, Rep.</td>\n      <td>YEM</td>\n      <td>CO2 emissions (metric tons per capita)</td>\n      <td>EN.ATM.CO2E.PC</td>\n      <td>NaN</td>\n      <td>NaN</td>\n      <td>NaN</td>\n      <td>NaN</td>\n      <td>NaN</td>\n      <td>NaN</td>\n      <td>...</td>\n      <td>Middle East &amp; North Africa</td>\n      <td>Low income</td>\n      <td>The World Bank systematically assesses the app...</td>\n      <td>Yemen, Rep.</td>\n      <td>NaN</td>\n      <td>Middle East &amp; North Africa</td>\n      <td>Low income</td>\n      <td>The World Bank systematically assesses the app...</td>\n      <td>Yemen, Rep.</td>\n      <td>NaN</td>\n    </tr>\n    <tr>\n      <th>262</th>\n      <td>South Africa</td>\n      <td>ZAF</td>\n      <td>CO2 emissions (metric tons per capita)</td>\n      <td>EN.ATM.CO2E.PC</td>\n      <td>NaN</td>\n      <td>NaN</td>\n      <td>NaN</td>\n      <td>NaN</td>\n      <td>NaN</td>\n      <td>NaN</td>\n      <td>...</td>\n      <td>Sub-Saharan Africa</td>\n      <td>Upper middle income</td>\n      <td>Fiscal year end: March 31; reporting period fo...</td>\n      <td>South Africa</td>\n      <td>NaN</td>\n      <td>Sub-Saharan Africa</td>\n      <td>Upper middle income</td>\n      <td>Fiscal year end: March 31; reporting period fo...</td>\n      <td>South Africa</td>\n      <td>NaN</td>\n    </tr>\n    <tr>\n      <th>263</th>\n      <td>Zambia</td>\n      <td>ZMB</td>\n      <td>CO2 emissions (metric tons per capita)</td>\n      <td>EN.ATM.CO2E.PC</td>\n      <td>NaN</td>\n      <td>NaN</td>\n      <td>NaN</td>\n      <td>NaN</td>\n      <td>NaN</td>\n      <td>NaN</td>\n      <td>...</td>\n      <td>Sub-Saharan Africa</td>\n      <td>Low income</td>\n      <td>National accounts data were rebased to reflect...</td>\n      <td>Zambia</td>\n      <td>NaN</td>\n      <td>Sub-Saharan Africa</td>\n      <td>Low income</td>\n      <td>National accounts data were rebased to reflect...</td>\n      <td>Zambia</td>\n      <td>NaN</td>\n    </tr>\n    <tr>\n      <th>264</th>\n      <td>Zimbabwe</td>\n      <td>ZWE</td>\n      <td>CO2 emissions (metric tons per capita)</td>\n      <td>EN.ATM.CO2E.PC</td>\n      <td>NaN</td>\n      <td>NaN</td>\n      <td>NaN</td>\n      <td>NaN</td>\n      <td>NaN</td>\n      <td>NaN</td>\n      <td>...</td>\n      <td>Sub-Saharan Africa</td>\n      <td>Lower middle income</td>\n      <td>National Accounts data are reported in Zimbabw...</td>\n      <td>Zimbabwe</td>\n      <td>NaN</td>\n      <td>Sub-Saharan Africa</td>\n      <td>Lower middle income</td>\n      <td>National Accounts data are reported in Zimbabw...</td>\n      <td>Zimbabwe</td>\n      <td>NaN</td>\n    </tr>\n  </tbody>\n</table>\n<p>265 rows × 77 columns</p>\n</div>"
     },
     "execution_count": 93,
     "metadata": {},
     "output_type": "execute_result"
    }
   ],
   "source": [
    "#data = data.drop([\"Indicator Name\", \"Indicator Code\"], axis=1)\n",
    "#data[[\"Indicator Name\", \"Indicator Code\"]]\n",
    "data"
   ]
  },
  {
   "cell_type": "markdown",
   "metadata": {},
   "source": [
    "<h2>3. Some years have no data for any country.</h2>"
   ]
  },
  {
   "cell_type": "markdown",
   "metadata": {},
   "source": [
    "**Goals:**  \n",
    "Count the number of rows for each year. NaN value does not get counted towards the total.\n"
   ]
  },
  {
   "cell_type": "code",
   "execution_count": 92,
   "metadata": {},
   "outputs": [
    {
     "name": "stdout",
     "output_type": "stream",
     "text": [
      "                                 1990      1991      1992      1993      1994  \\\n",
      "Country Name                                                                    \n",
      "Afghanistan                  0.191745  0.167682  0.095958  0.084721  0.075546   \n",
      "Africa Eastern and Southern  0.999038  0.953224  0.915661  0.916485  0.917093   \n",
      "Africa Western and Central   0.478144  0.530016  0.568305  0.523529  0.470888   \n",
      "Albania                      1.819542  1.242810  0.683700  0.638307  0.645355   \n",
      "Algeria                      2.443430  2.516243  2.472961  2.613304  2.609009   \n",
      "...                               ...       ...       ...       ...       ...   \n",
      "Vietnam                      0.284311  0.285151  0.293580  0.335268  0.362248   \n",
      "World                        3.906255  3.868547  3.814152  3.780707  3.744687   \n",
      "Yemen, Rep.                  0.567037  0.690937  0.704793  0.627105  0.653256   \n",
      "Zambia                       0.340930  0.349232  0.337224  0.289956  0.241270   \n",
      "Zimbabwe                     1.585444  1.713321  1.694416  1.539741  1.417186   \n",
      "\n",
      "                                 1995      1996      1997      1998      1999  \\\n",
      "Country Name                                                                    \n",
      "Afghanistan                  0.068468  0.062588  0.056827  0.052691  0.040157   \n",
      "Africa Eastern and Southern  0.936570  0.947393  0.967836  0.967182  0.904871   \n",
      "Africa Western and Central   0.501681  0.564390  0.549638  0.514868  0.511254   \n",
      "Albania                      0.605436  0.612367  0.466921  0.572154  0.955359   \n",
      "Algeria                      2.658063  2.600934  2.502439  2.472448  2.531071   \n",
      "...                               ...       ...       ...       ...       ...   \n",
      "Vietnam                      0.419167  0.460505  0.529474  0.582085  0.587202   \n",
      "World                        3.794248  3.818985  3.830205  3.798067  3.765047   \n",
      "Yemen, Rep.                  0.706081  0.698158  0.728608  0.757433  0.830912   \n",
      "Zambia                       0.234153  0.188442  0.238601  0.219937  0.173560   \n",
      "Zimbabwe                     1.356619  1.287559  1.186793  1.197745  1.338101   \n",
      "\n",
      "                             ...      2010      2011      2012      2013  \\\n",
      "Country Name                 ...                                           \n",
      "Afghanistan                  ...  0.243614  0.296506  0.259295  0.185624   \n",
      "Africa Eastern and Southern  ...  1.021548  0.979352  0.992616  1.005027   \n",
      "Africa Western and Central   ...  0.472077  0.476789  0.480603  0.508099   \n",
      "Albania                      ...  1.527624  1.669423  1.503240  1.533630   \n",
      "Algeria                      ...  3.173655  3.294743  3.609308  3.644979   \n",
      "...                          ...       ...       ...       ...       ...   \n",
      "Vietnam                      ...  1.721201  1.755008  1.731811  1.810417   \n",
      "World                        ...  4.484850  4.571988  4.578805  4.615620   \n",
      "Yemen, Rep.                  ...  1.098258  0.963978  0.858491  1.106688   \n",
      "Zambia                       ...  0.195502  0.217497  0.278601  0.284058   \n",
      "Zimbabwe                     ...  0.756041  0.884886  0.915735  0.919824   \n",
      "\n",
      "                                 2014      2015      2016      2017      2018  \\\n",
      "Country Name                                                                    \n",
      "Afghanistan                  0.146236  0.172897  0.149789  0.131695  0.163295   \n",
      "Africa Eastern and Southern  1.016649  0.966589  0.948410  0.937926  0.917507   \n",
      "Africa Western and Central   0.515960  0.494065  0.499405  0.483140  0.486456   \n",
      "Albania                      1.668337  1.603775  1.557664  1.788786  1.782739   \n",
      "Algeria                      3.795632  3.933496  3.820090  3.825638  3.920109   \n",
      "...                               ...       ...       ...       ...       ...   \n",
      "Vietnam                      1.972112  2.380847  2.389139  2.436030  2.989137   \n",
      "World                        4.571665  4.490607  4.441769  4.457093  4.510145   \n",
      "Yemen, Rep.                  1.062211  0.511362  0.399364  0.359622  0.341068   \n",
      "Zambia                       0.304550  0.312355  0.325115  0.404068  0.445489   \n",
      "Zimbabwe                     0.889104  0.899770  0.785441  0.726297  0.857411   \n",
      "\n",
      "                                 2019  \n",
      "Country Name                           \n",
      "Afghanistan                  0.159824  \n",
      "Africa Eastern and Southern  0.913618  \n",
      "Africa Western and Central   0.493923  \n",
      "Albania                      1.692248  \n",
      "Algeria                      3.977650  \n",
      "...                               ...  \n",
      "Vietnam                      3.488313  \n",
      "World                        4.469660  \n",
      "Yemen, Rep.                  0.380633  \n",
      "Zambia                       0.380717  \n",
      "Zimbabwe                     0.802979  \n",
      "\n",
      "[239 rows x 30 columns]\n"
     ]
    },
    {
     "name": "stderr",
     "output_type": "stream",
     "text": [
      "D:\\Nasti\\Temp\\ipykernel_7064\\3221939635.py:1: FutureWarning: pivot_table dropped a column because it failed to aggregate. This behavior is deprecated and will raise in a future version of pandas. Select only the columns that can be aggregated.\n",
      "  new_nan = pd.pivot_table(data, index = \"Country Name\", dropna = True)   # dropna=True no NaN\n"
     ]
    }
   ],
   "source": [
    "new_nan = pd.pivot_table(data, index = \"Country Name\", dropna = True)   # dropna=True no NaN\n",
    "new_nan.count().head(60)\n",
    "print(new_nan)"
   ]
  },
  {
   "cell_type": "markdown",
   "metadata": {},
   "source": [
    "Checking year 2019 because there seems to be no rows containing data."
   ]
  },
  {
   "cell_type": "code",
   "execution_count": 104,
   "metadata": {},
   "outputs": [
    {
     "name": "stdout",
     "output_type": "stream",
     "text": [
      "0           NaN\n",
      "1      0.913618\n",
      "2      0.159824\n",
      "3      0.493923\n",
      "4      0.792137\n",
      "         ...   \n",
      "260         NaN\n",
      "261    0.380633\n",
      "262    7.507736\n",
      "263    0.380717\n",
      "264    0.802979\n",
      "Name: 2019, Length: 265, dtype: float64\n"
     ]
    }
   ],
   "source": [
    "print(data[\"2019\"])"
   ]
  },
  {
   "cell_type": "markdown",
   "metadata": {},
   "source": [
    "#### Remove columns with no row data"
   ]
  },
  {
   "cell_type": "code",
   "execution_count": null,
   "metadata": {},
   "outputs": [],
   "source": []
  },
  {
   "cell_type": "code",
   "execution_count": null,
   "metadata": {
    "scrolled": true
   },
   "outputs": [],
   "source": [
    "#double-check that columns have been removed"
   ]
  },
  {
   "cell_type": "markdown",
   "metadata": {},
   "source": [
    "<h2>4. Some countries have no data for any year.</h2>"
   ]
  },
  {
   "cell_type": "markdown",
   "metadata": {},
   "source": [
    "**Goals:**  \n",
    "Use row means to determine which countries have no data."
   ]
  },
  {
   "cell_type": "markdown",
   "metadata": {},
   "source": [
    "Let's take the means for each row (on axis 1)."
   ]
  },
  {
   "cell_type": "code",
   "execution_count": null,
   "metadata": {},
   "outputs": [],
   "source": []
  },
  {
   "cell_type": "markdown",
   "metadata": {},
   "source": [
    "As you can see, the NaN appears when there is no data for that row."
   ]
  },
  {
   "cell_type": "markdown",
   "metadata": {},
   "source": [
    "#### Remove rows where there are no values in any year"
   ]
  },
  {
   "cell_type": "code",
   "execution_count": null,
   "metadata": {
    "scrolled": true
   },
   "outputs": [],
   "source": []
  },
  {
   "cell_type": "code",
   "execution_count": null,
   "metadata": {},
   "outputs": [],
   "source": [
    "#Takes the mean of all numeric quantities by row"
   ]
  },
  {
   "cell_type": "markdown",
   "metadata": {},
   "source": [
    "<h2>Data Cleaning ... done!</h2>"
   ]
  },
  {
   "cell_type": "markdown",
   "metadata": {},
   "source": [
    "Export cleaned data:"
   ]
  },
  {
   "cell_type": "code",
   "execution_count": null,
   "metadata": {},
   "outputs": [],
   "source": []
  }
 ],
 "metadata": {
  "anaconda-cloud": {},
  "kernelspec": {
   "display_name": "Python 3 (ipykernel)",
   "language": "python",
   "name": "python3"
  },
  "language_info": {
   "codemirror_mode": {
    "name": "ipython",
    "version": 3
   },
   "file_extension": ".py",
   "mimetype": "text/x-python",
   "name": "python",
   "nbconvert_exporter": "python",
   "pygments_lexer": "ipython3",
   "version": "3.8.5"
  },
  "widgets": {
   "state": {},
   "version": "1.1.2"
  }
 },
 "nbformat": 4,
 "nbformat_minor": 2
}
